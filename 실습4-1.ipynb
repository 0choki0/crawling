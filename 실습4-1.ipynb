{
 "cells": [
  {
   "cell_type": "code",
   "execution_count": 2,
   "id": "c27fc4a4",
   "metadata": {},
   "outputs": [],
   "source": [
    "from selenium import webdriver\n",
    "from bs4 import BeautifulSoup\n",
    "from selenium.webdriver.chrome.service import Service as ChromeService\n",
    "from webdriver_manager.chrome import ChromeDriverManager"
   ]
  },
  {
   "cell_type": "code",
   "execution_count": 4,
   "id": "4a45e550",
   "metadata": {},
   "outputs": [],
   "source": [
    "driver = webdriver.Chrome(service=ChromeService(ChromeDriverManager().install()))"
   ]
  },
  {
   "cell_type": "code",
   "execution_count": 5,
   "id": "078f7425",
   "metadata": {},
   "outputs": [],
   "source": [
    "url =  'http://www.melon.com/chart/index.htm'\n",
    "driver.get(url)"
   ]
  },
  {
   "cell_type": "code",
   "execution_count": 6,
   "id": "53576b88",
   "metadata": {},
   "outputs": [],
   "source": [
    "html = driver.page_source\n",
    "soup = BeautifulSoup(html, 'html.parser')"
   ]
  },
  {
   "cell_type": "code",
   "execution_count": 8,
   "id": "3cc58a8b",
   "metadata": {},
   "outputs": [
    {
     "name": "stdout",
     "output_type": "stream",
     "text": [
      "[['Melon', 1, 'Perfect Night', 'LE SSERAFIM (르세라핌)'], ['Melon', 2, 'Drama', 'aespa'], ['Melon', 3, 'To. X', '태연 (TAEYEON)'], ['Melon', 4, 'Baddie', 'IVE (아이브)'], ['Melon', 5, 'Seven (feat. Latto) - Clean Ver.', '정국'], ['Melon', 6, '사랑은 늘 도망가', '임영웅'], ['Melon', 7, '헤어지자 말해요', '박재정'], ['Melon', 8, 'Love Lee', 'AKMU (악뮤)'], ['Melon', 9, '인사', '범진'], ['Melon', 10, 'You & Me', '제니 (JENNIE)'], ['Melon', 11, 'Do or Die', '임영웅'], ['Melon', 12, '첫 눈', 'EXO'], ['Melon', 13, '모래 알갱이', '임영웅'], ['Melon', 14, '우리들의 블루스', '임영웅'], ['Melon', 15, '후라이의 꿈', 'AKMU (악뮤)'], ['Melon', 16, '다시 만날 수 있을까', '임영웅'], ['Melon', 17, 'Standing Next to You', '정국'], ['Melon', 18, '그대만 있다면 (여름날 우리 X 너드커넥션 (Nerd Connection))', '너드커넥션 (Nerd Connection)'], ['Melon', 19, 'I AM', 'IVE (아이브)'], ['Melon', 20, '이제 나만 믿어요', '임영웅'], ['Melon', 21, '무지개', '임영웅'], ['Melon', 22, 'London Boy', '임영웅'], ['Melon', 23, 'Super Shy', 'NewJeans'], ['Melon', 24, 'Polaroid', '임영웅'], ['Melon', 25, '아버지', '임영웅'], ['Melon', 26, 'Either Way', 'IVE (아이브)'], ['Melon', 27, '인생찬가', '임영웅'], ['Melon', 28, '사막에서 꽃을 피우듯', '우디 (Woody)'], ['Melon', 29, '별 떨어진다 (I Do)', '디오 (D.O.)'], ['Melon', 30, 'Smoke (Prod. Dynamicduo, Padi)', '다이나믹 듀오'], ['Melon', 31, 'ETA', 'NewJeans'], ['Melon', 32, 'A bientot', '임영웅'], ['Melon', 33, 'Get A Guitar', 'RIIZE'], ['Melon', 34, 'All I Want for Christmas Is You', 'Mariah Carey'], ['Melon', 35, 'Ditto', 'NewJeans'], ['Melon', 36, 'Chill Kill', 'Red Velvet (레드벨벳)'], ['Melon', 37, '잘 지내자, 우리 (여름날 우리 X 로이킴)', '로이킴'], ['Melon', 38, '연애편지', '임영웅'], ['Melon', 39, '퀸카 (Queencard)', '(여자)아이들'], ['Melon', 40, 'Hype Boy', 'NewJeans'], ['Melon', 41, '너의 모든 순간', '성시경'], ['Melon', 42, 'Snowman', 'Sia'], ['Melon', 43, 'Fast Forward', '전소미'], ['Melon', 44, 'Santa Tell Me', 'Ariana Grande'], ['Melon', 45, '음악의 신', '세븐틴 (SEVENTEEN)'], ['Melon', 46, '비의 랩소디', '임재현'], ['Melon', 47, 'Off The Record', 'IVE (아이브)'], ['Melon', 48, '어떻게 이별까지 사랑하겠어, 널 사랑하는 거지', 'AKMU (악뮤)'], ['Melon', 49, '사랑하지 않아서 그랬어', '임한별'], ['Melon', 50, 'GODS', 'NewJeans'], ['Melon', 51, '잠시라도 우리', '성시경'], ['Melon', 52, 'Spicy', 'aespa'], ['Melon', 53, '사건의 지평선', '윤하 (YOUNHA)'], ['Melon', 54, '사랑인가 봐', '멜로망스'], ['Melon', 55, 'Kitsch', 'IVE (아이브)'], ['Melon', 56, '크리스마스니까', '성시경'], ['Melon', 57, '이브, 프시케 그리고 푸른 수염의 아내', 'LE SSERAFIM (르세라핌)'], ['Melon', 58, 'I Love My Body', '화사 (HWASA)'], ['Melon', 59, 'Discord', 'QWER'], ['Melon', 60, 'Bubble', 'STAYC(스테이씨)'], ['Melon', 61, 'OMG', 'NewJeans'], ['Melon', 62, 'Dynamite', '방탄소년단'], ['Melon', 63, 'Steal The Show (From “엘리멘탈”)', 'Lauv'], ['Melon', 64, \"I Don't Think That I Like Her\", 'Charlie Puth'], ['Melon', 65, '심(心)', 'DK(디셈버)'], ['Melon', 66, 'LOVE DIVE', 'IVE (아이브)'], ['Melon', 67, '취중고백', '김민석 (멜로망스)'], ['Melon', 68, '물론', '허각'], ['Melon', 69, '주저하는 연인들을 위해', '잔나비'], ['Melon', 70, 'Last Christmas', 'Ariana Grande'], ['Melon', 71, 'After LIKE', 'IVE (아이브)'], ['Melon', 72, '봄날', '방탄소년단'], ['Melon', 73, '미리 메리 크리스마스 (Feat. 천둥 Of MBLAQ)', '아이유'], ['Melon', 74, '손오공', '세븐틴 (SEVENTEEN)'], ['Melon', 75, '3D (feat. Jack Harlow)', '정국'], ['Melon', 76, '다정히 내 이름을 부르면', '경서예지'], ['Melon', 77, 'Dangerously', 'Charlie Puth'], ['Melon', 78, 'Yes or No', '정국'], ['Melon', 79, '해요 (2022)', '#안녕'], ['Melon', 80, '나에게 그대만이', '탑현'], ['Melon', 81, 'Attention', 'NewJeans'], ['Melon', 82, '파이팅 해야지 (Feat. 이영지)', '부석순 (SEVENTEEN)'], ['Melon', 83, '입술 (Feat. 10CM)', '헤이즈 (Heize)'], ['Melon', 84, 'Butter', '방탄소년단'], ['Melon', 85, 'UNFORGIVEN (feat. Nile Rodgers)', 'LE SSERAFIM (르세라핌)'], ['Melon', 86, '사랑..그게 뭔데', '지아'], ['Melon', 87, '밤, 바다', '최유리'], ['Melon', 88, 'DIE 4 YOU', 'DEAN'], ['Melon', 89, '그중에 그대를 만나', '김호중'], ['Melon', 90, 'Summer (Feat. BE’O (비오))', 'Paul Blanco'], ['Melon', 91, 'Hate You', '정국'], ['Melon', 92, 'Still With You', '정국'], ['Melon', 93, '건물 사이에 피어난 장미 (Rose Blossom)', 'H1-KEY (하이키)'], ['Melon', 94, '모든 날, 모든 순간 (Every day, Every Moment)', '폴킴'], ['Melon', 95, 'STAY', 'The Kid LAROI'], ['Melon', 96, '숲', '최유리'], ['Melon', 97, '미쳐버리겠다 (MAD)', \"BE'O (비오)\"], ['Melon', 98, '이쁜 여자가 좋더라 (Feat. Gist, Jayci yucca)', '릴러말즈 (Leellamarz)'], ['Melon', 99, '꽃', '지수 (JISOO)'], ['Melon', 100, '그대가 있는 곳, 언제 어디든', '로이킴']]\n"
     ]
    }
   ],
   "source": [
    "song_data = []\n",
    "rank = 1\n",
    "\n",
    "songs = soup.select('table > tbody > tr')\n",
    "for song in songs:\n",
    "    title = song.select('div.rank01 > span > a')[0].text\n",
    "    singer = song.select('div.rank02 > a')[0].text\n",
    "    song_data.append(['Melon',rank, title, singer])\n",
    "    rank += 1\n",
    "\n",
    "print(song_data)"
   ]
  },
  {
   "cell_type": "code",
   "execution_count": 9,
   "id": "897ce2f5",
   "metadata": {},
   "outputs": [
    {
     "data": {
      "text/html": [
       "<div>\n",
       "<style scoped>\n",
       "    .dataframe tbody tr th:only-of-type {\n",
       "        vertical-align: middle;\n",
       "    }\n",
       "\n",
       "    .dataframe tbody tr th {\n",
       "        vertical-align: top;\n",
       "    }\n",
       "\n",
       "    .dataframe thead th {\n",
       "        text-align: right;\n",
       "    }\n",
       "</style>\n",
       "<table border=\"1\" class=\"dataframe\">\n",
       "  <thead>\n",
       "    <tr style=\"text-align: right;\">\n",
       "      <th></th>\n",
       "      <th>서비스</th>\n",
       "      <th>순위</th>\n",
       "      <th>타이틀</th>\n",
       "      <th>가수</th>\n",
       "    </tr>\n",
       "  </thead>\n",
       "  <tbody>\n",
       "    <tr>\n",
       "      <th>0</th>\n",
       "      <td>Melon</td>\n",
       "      <td>1</td>\n",
       "      <td>Perfect Night</td>\n",
       "      <td>LE SSERAFIM (르세라핌)</td>\n",
       "    </tr>\n",
       "    <tr>\n",
       "      <th>1</th>\n",
       "      <td>Melon</td>\n",
       "      <td>2</td>\n",
       "      <td>Drama</td>\n",
       "      <td>aespa</td>\n",
       "    </tr>\n",
       "    <tr>\n",
       "      <th>2</th>\n",
       "      <td>Melon</td>\n",
       "      <td>3</td>\n",
       "      <td>To. X</td>\n",
       "      <td>태연 (TAEYEON)</td>\n",
       "    </tr>\n",
       "    <tr>\n",
       "      <th>3</th>\n",
       "      <td>Melon</td>\n",
       "      <td>4</td>\n",
       "      <td>Baddie</td>\n",
       "      <td>IVE (아이브)</td>\n",
       "    </tr>\n",
       "    <tr>\n",
       "      <th>4</th>\n",
       "      <td>Melon</td>\n",
       "      <td>5</td>\n",
       "      <td>Seven (feat. Latto) - Clean Ver.</td>\n",
       "      <td>정국</td>\n",
       "    </tr>\n",
       "    <tr>\n",
       "      <th>...</th>\n",
       "      <td>...</td>\n",
       "      <td>...</td>\n",
       "      <td>...</td>\n",
       "      <td>...</td>\n",
       "    </tr>\n",
       "    <tr>\n",
       "      <th>95</th>\n",
       "      <td>Melon</td>\n",
       "      <td>96</td>\n",
       "      <td>숲</td>\n",
       "      <td>최유리</td>\n",
       "    </tr>\n",
       "    <tr>\n",
       "      <th>96</th>\n",
       "      <td>Melon</td>\n",
       "      <td>97</td>\n",
       "      <td>미쳐버리겠다 (MAD)</td>\n",
       "      <td>BE'O (비오)</td>\n",
       "    </tr>\n",
       "    <tr>\n",
       "      <th>97</th>\n",
       "      <td>Melon</td>\n",
       "      <td>98</td>\n",
       "      <td>이쁜 여자가 좋더라 (Feat. Gist, Jayci yucca)</td>\n",
       "      <td>릴러말즈 (Leellamarz)</td>\n",
       "    </tr>\n",
       "    <tr>\n",
       "      <th>98</th>\n",
       "      <td>Melon</td>\n",
       "      <td>99</td>\n",
       "      <td>꽃</td>\n",
       "      <td>지수 (JISOO)</td>\n",
       "    </tr>\n",
       "    <tr>\n",
       "      <th>99</th>\n",
       "      <td>Melon</td>\n",
       "      <td>100</td>\n",
       "      <td>그대가 있는 곳, 언제 어디든</td>\n",
       "      <td>로이킴</td>\n",
       "    </tr>\n",
       "  </tbody>\n",
       "</table>\n",
       "<p>100 rows × 4 columns</p>\n",
       "</div>"
      ],
      "text/plain": [
       "      서비스   순위                                   타이틀                  가수\n",
       "0   Melon    1                         Perfect Night  LE SSERAFIM (르세라핌)\n",
       "1   Melon    2                                 Drama               aespa\n",
       "2   Melon    3                                 To. X        태연 (TAEYEON)\n",
       "3   Melon    4                                Baddie           IVE (아이브)\n",
       "4   Melon    5      Seven (feat. Latto) - Clean Ver.                  정국\n",
       "..    ...  ...                                   ...                 ...\n",
       "95  Melon   96                                     숲                 최유리\n",
       "96  Melon   97                          미쳐버리겠다 (MAD)           BE'O (비오)\n",
       "97  Melon   98  이쁜 여자가 좋더라 (Feat. Gist, Jayci yucca)   릴러말즈 (Leellamarz)\n",
       "98  Melon   99                                     꽃          지수 (JISOO)\n",
       "99  Melon  100                      그대가 있는 곳, 언제 어디든                 로이킴\n",
       "\n",
       "[100 rows x 4 columns]"
      ]
     },
     "execution_count": 9,
     "metadata": {},
     "output_type": "execute_result"
    }
   ],
   "source": [
    "import pandas as pd\n",
    "columns = ['서비스', '순위', '타이틀','가수']\n",
    "pd_data = pd.DataFrame(song_data, columns = columns)\n",
    "pd_data"
   ]
  },
  {
   "cell_type": "code",
   "execution_count": 11,
   "id": "735bbfd5",
   "metadata": {},
   "outputs": [],
   "source": [
    "pd_data.to_excel('melon.xlsx', index=False)"
   ]
  },
  {
   "cell_type": "code",
   "execution_count": null,
   "id": "f64eb0c2",
   "metadata": {},
   "outputs": [],
   "source": []
  },
  {
   "cell_type": "code",
   "execution_count": null,
   "id": "44bf27bc",
   "metadata": {},
   "outputs": [],
   "source": []
  }
 ],
 "metadata": {
  "kernelspec": {
   "display_name": "Python 3 (ipykernel)",
   "language": "python",
   "name": "python3"
  },
  "language_info": {
   "codemirror_mode": {
    "name": "ipython",
    "version": 3
   },
   "file_extension": ".py",
   "mimetype": "text/x-python",
   "name": "python",
   "nbconvert_exporter": "python",
   "pygments_lexer": "ipython3",
   "version": "3.11.5"
  }
 },
 "nbformat": 4,
 "nbformat_minor": 5
}
