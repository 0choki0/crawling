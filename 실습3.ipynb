{
 "cells": [
  {
   "cell_type": "code",
   "execution_count": 1,
   "id": "be96fd78",
   "metadata": {},
   "outputs": [
    {
     "name": "stdout",
     "output_type": "stream",
     "text": [
      "Defaulting to user installation because normal site-packages is not writeableNote: you may need to restart the kernel to use updated packages.\n",
      "\n",
      "Collecting selenium\n",
      "  Obtaining dependency information for selenium from https://files.pythonhosted.org/packages/dc/72/96b5afa16908f9abc7c24b70adfd3a46c9740eb728ddfeab28379e38eaf9/selenium-4.16.0-py3-none-any.whl.metadata\n",
      "  Downloading selenium-4.16.0-py3-none-any.whl.metadata (6.9 kB)\n",
      "Requirement already satisfied: urllib3[socks]<3,>=1.26 in c:\\programdata\\anaconda3\\lib\\site-packages (from selenium) (1.26.16)\n",
      "Collecting trio~=0.17 (from selenium)\n",
      "  Obtaining dependency information for trio~=0.17 from https://files.pythonhosted.org/packages/39/46/620fbe56f41fa3ccdda2136d947fb9bacce3d1eb163f057f0262a0ddf5e0/trio-0.23.1-py3-none-any.whl.metadata\n",
      "  Downloading trio-0.23.1-py3-none-any.whl.metadata (4.9 kB)\n",
      "Collecting trio-websocket~=0.9 (from selenium)\n",
      "  Obtaining dependency information for trio-websocket~=0.9 from https://files.pythonhosted.org/packages/48/be/a9ae5f50cad5b6f85bd2574c2c923730098530096e170c1ce7452394d7aa/trio_websocket-0.11.1-py3-none-any.whl.metadata\n",
      "  Downloading trio_websocket-0.11.1-py3-none-any.whl.metadata (4.7 kB)\n",
      "Requirement already satisfied: certifi>=2021.10.8 in c:\\programdata\\anaconda3\\lib\\site-packages (from selenium) (2023.7.22)\n",
      "Requirement already satisfied: attrs>=20.1.0 in c:\\programdata\\anaconda3\\lib\\site-packages (from trio~=0.17->selenium) (22.1.0)\n",
      "Requirement already satisfied: sortedcontainers in c:\\programdata\\anaconda3\\lib\\site-packages (from trio~=0.17->selenium) (2.4.0)\n",
      "Requirement already satisfied: idna in c:\\programdata\\anaconda3\\lib\\site-packages (from trio~=0.17->selenium) (3.4)\n",
      "Collecting outcome (from trio~=0.17->selenium)\n",
      "  Obtaining dependency information for outcome from https://files.pythonhosted.org/packages/55/8b/5ab7257531a5d830fc8000c476e63c935488d74609b50f9384a643ec0a62/outcome-1.3.0.post0-py2.py3-none-any.whl.metadata\n",
      "  Downloading outcome-1.3.0.post0-py2.py3-none-any.whl.metadata (2.6 kB)\n",
      "Collecting sniffio>=1.3.0 (from trio~=0.17->selenium)\n",
      "  Using cached sniffio-1.3.0-py3-none-any.whl (10 kB)\n",
      "Requirement already satisfied: cffi>=1.14 in c:\\programdata\\anaconda3\\lib\\site-packages (from trio~=0.17->selenium) (1.15.1)\n",
      "Collecting wsproto>=0.14 (from trio-websocket~=0.9->selenium)\n",
      "  Downloading wsproto-1.2.0-py3-none-any.whl (24 kB)\n",
      "Requirement already satisfied: PySocks!=1.5.7,<2.0,>=1.5.6 in c:\\programdata\\anaconda3\\lib\\site-packages (from urllib3[socks]<3,>=1.26->selenium) (1.7.1)\n",
      "Requirement already satisfied: pycparser in c:\\programdata\\anaconda3\\lib\\site-packages (from cffi>=1.14->trio~=0.17->selenium) (2.21)\n",
      "Collecting h11<1,>=0.9.0 (from wsproto>=0.14->trio-websocket~=0.9->selenium)\n",
      "  Downloading h11-0.14.0-py3-none-any.whl (58 kB)\n",
      "     ---------------------------------------- 0.0/58.3 kB ? eta -:--:--\n",
      "     ---------------------------------------- 58.3/58.3 kB 3.0 MB/s eta 0:00:00\n",
      "Downloading selenium-4.16.0-py3-none-any.whl (10.0 MB)\n",
      "   ---------------------------------------- 0.0/10.0 MB ? eta -:--:--\n",
      "    --------------------------------------- 0.2/10.0 MB 5.9 MB/s eta 0:00:02\n",
      "   - -------------------------------------- 0.5/10.0 MB 6.2 MB/s eta 0:00:02\n",
      "   --- ------------------------------------ 0.8/10.0 MB 6.2 MB/s eta 0:00:02\n",
      "   ---- ----------------------------------- 1.1/10.0 MB 6.2 MB/s eta 0:00:02\n",
      "   ----- ---------------------------------- 1.4/10.0 MB 6.5 MB/s eta 0:00:02\n",
      "   ------- -------------------------------- 1.8/10.0 MB 6.8 MB/s eta 0:00:02\n",
      "   -------- ------------------------------- 2.2/10.0 MB 7.1 MB/s eta 0:00:02\n",
      "   ---------- ----------------------------- 2.6/10.0 MB 7.3 MB/s eta 0:00:01\n",
      "   ------------ --------------------------- 3.0/10.0 MB 7.4 MB/s eta 0:00:01\n",
      "   ------------- -------------------------- 3.4/10.0 MB 7.4 MB/s eta 0:00:01\n",
      "   -------------- ------------------------- 3.6/10.0 MB 7.4 MB/s eta 0:00:01\n",
      "   --------------- ------------------------ 3.9/10.0 MB 7.2 MB/s eta 0:00:01\n",
      "   ----------------- ---------------------- 4.3/10.0 MB 7.2 MB/s eta 0:00:01\n",
      "   ------------------ --------------------- 4.7/10.0 MB 7.3 MB/s eta 0:00:01\n",
      "   -------------------- ------------------- 5.0/10.0 MB 7.3 MB/s eta 0:00:01\n",
      "   --------------------- ------------------ 5.5/10.0 MB 7.4 MB/s eta 0:00:01\n",
      "   ----------------------- ---------------- 5.9/10.0 MB 7.5 MB/s eta 0:00:01\n",
      "   ------------------------ --------------- 6.2/10.0 MB 7.5 MB/s eta 0:00:01\n",
      "   -------------------------- ------------- 6.5/10.0 MB 7.4 MB/s eta 0:00:01\n",
      "   --------------------------- ------------ 6.9/10.0 MB 7.4 MB/s eta 0:00:01\n",
      "   ----------------------------- ---------- 7.3/10.0 MB 7.5 MB/s eta 0:00:01\n",
      "   ------------------------------ --------- 7.6/10.0 MB 7.5 MB/s eta 0:00:01\n",
      "   ------------------------------- -------- 7.9/10.0 MB 7.5 MB/s eta 0:00:01\n",
      "   -------------------------------- ------- 8.2/10.0 MB 7.4 MB/s eta 0:00:01\n",
      "   --------------------------------- ------ 8.3/10.0 MB 7.2 MB/s eta 0:00:01\n",
      "   ---------------------------------- ----- 8.5/10.0 MB 7.0 MB/s eta 0:00:01\n",
      "   ----------------------------------- ---- 8.7/10.0 MB 7.0 MB/s eta 0:00:01\n",
      "   ----------------------------------- ---- 8.9/10.0 MB 6.9 MB/s eta 0:00:01\n",
      "   ------------------------------------ --- 9.2/10.0 MB 6.8 MB/s eta 0:00:01\n",
      "   ------------------------------------- -- 9.3/10.0 MB 6.7 MB/s eta 0:00:01\n",
      "   -------------------------------------- - 9.6/10.0 MB 6.6 MB/s eta 0:00:01\n",
      "   ---------------------------------------  9.8/10.0 MB 6.7 MB/s eta 0:00:01\n",
      "   ---------------------------------------  10.0/10.0 MB 6.5 MB/s eta 0:00:01\n",
      "   ---------------------------------------  10.0/10.0 MB 6.5 MB/s eta 0:00:01\n",
      "   ---------------------------------------- 10.0/10.0 MB 6.2 MB/s eta 0:00:00\n",
      "Downloading trio-0.23.1-py3-none-any.whl (448 kB)\n",
      "   ---------------------------------------- 0.0/448.3 kB ? eta -:--:--\n",
      "   -------------- ------------------------- 163.8/448.3 kB 3.3 MB/s eta 0:00:01\n",
      "   ---------------------------------------  440.3/448.3 kB 4.6 MB/s eta 0:00:01\n",
      "   ---------------------------------------- 448.3/448.3 kB 3.5 MB/s eta 0:00:00\n",
      "Downloading trio_websocket-0.11.1-py3-none-any.whl (17 kB)\n",
      "Downloading outcome-1.3.0.post0-py2.py3-none-any.whl (10 kB)\n",
      "Installing collected packages: sniffio, outcome, h11, wsproto, trio, trio-websocket, selenium\n",
      "Successfully installed h11-0.14.0 outcome-1.3.0.post0 selenium-4.16.0 sniffio-1.3.0 trio-0.23.1 trio-websocket-0.11.1 wsproto-1.2.0\n"
     ]
    }
   ],
   "source": [
    "pip install selenium"
   ]
  },
  {
   "cell_type": "code",
   "execution_count": 2,
   "id": "31cc5180",
   "metadata": {},
   "outputs": [
    {
     "name": "stdout",
     "output_type": "stream",
     "text": [
      "Defaulting to user installation because normal site-packages is not writeable\n",
      "Collecting webdriver_manager\n",
      "  Obtaining dependency information for webdriver_manager from https://files.pythonhosted.org/packages/b1/51/b5c11cf739ac4eecde611794a0ec9df420d0239d51e73bc19eb44f02b48b/webdriver_manager-4.0.1-py2.py3-none-any.whl.metadata\n",
      "  Downloading webdriver_manager-4.0.1-py2.py3-none-any.whl.metadata (12 kB)\n",
      "Requirement already satisfied: requests in c:\\programdata\\anaconda3\\lib\\site-packages (from webdriver_manager) (2.31.0)\n",
      "Requirement already satisfied: python-dotenv in c:\\programdata\\anaconda3\\lib\\site-packages (from webdriver_manager) (0.21.0)\n",
      "Requirement already satisfied: packaging in c:\\programdata\\anaconda3\\lib\\site-packages (from webdriver_manager) (23.1)\n",
      "Requirement already satisfied: charset-normalizer<4,>=2 in c:\\programdata\\anaconda3\\lib\\site-packages (from requests->webdriver_manager) (2.0.4)\n",
      "Requirement already satisfied: idna<4,>=2.5 in c:\\programdata\\anaconda3\\lib\\site-packages (from requests->webdriver_manager) (3.4)\n",
      "Requirement already satisfied: urllib3<3,>=1.21.1 in c:\\programdata\\anaconda3\\lib\\site-packages (from requests->webdriver_manager) (1.26.16)\n",
      "Requirement already satisfied: certifi>=2017.4.17 in c:\\programdata\\anaconda3\\lib\\site-packages (from requests->webdriver_manager) (2023.7.22)\n",
      "Downloading webdriver_manager-4.0.1-py2.py3-none-any.whl (27 kB)\n",
      "Installing collected packages: webdriver_manager\n",
      "Successfully installed webdriver_manager-4.0.1\n",
      "Note: you may need to restart the kernel to use updated packages.\n"
     ]
    }
   ],
   "source": [
    "pip install webdriver_manager"
   ]
  },
  {
   "cell_type": "code",
   "execution_count": 5,
   "id": "37f23a53",
   "metadata": {},
   "outputs": [],
   "source": [
    "from selenium import webdriver\n",
    "from selenium.webdriver.chrome.service import Service as ChromeService\n",
    "from webdriver_manager.chrome import ChromeDriverManager"
   ]
  },
  {
   "cell_type": "code",
   "execution_count": 28,
   "id": "b345b185",
   "metadata": {},
   "outputs": [],
   "source": [
    "driver = webdriver.Chrome(service=ChromeService(ChromeDriverManager().install()))"
   ]
  },
  {
   "cell_type": "code",
   "execution_count": 29,
   "id": "2354e869",
   "metadata": {},
   "outputs": [],
   "source": [
    "driver.get(\"https://www.naver.com/\")"
   ]
  },
  {
   "cell_type": "code",
   "execution_count": 30,
   "id": "1201bd12",
   "metadata": {},
   "outputs": [],
   "source": [
    "driver.set_window_size(1024, 768)"
   ]
  },
  {
   "cell_type": "code",
   "execution_count": 31,
   "id": "25c2a0a2",
   "metadata": {},
   "outputs": [],
   "source": [
    "driver.execute_script(\"window.scrollTo(200, 300);\")"
   ]
  },
  {
   "cell_type": "code",
   "execution_count": 32,
   "id": "3139594c",
   "metadata": {},
   "outputs": [],
   "source": [
    "driver.execute_script(\"alert('test');\")"
   ]
  },
  {
   "cell_type": "code",
   "execution_count": 33,
   "id": "6fafb12b",
   "metadata": {},
   "outputs": [
    {
     "name": "stdout",
     "output_type": "stream",
     "text": [
      "test\n"
     ]
    }
   ],
   "source": [
    "try:\n",
    "    alert = driver.switch_to.alert\n",
    "    print(alert.text)\n",
    "except:\n",
    "    print('alert 없음')"
   ]
  },
  {
   "cell_type": "code",
   "execution_count": 34,
   "id": "67962c3f",
   "metadata": {},
   "outputs": [],
   "source": [
    "alert.accept()"
   ]
  },
  {
   "cell_type": "code",
   "execution_count": 36,
   "id": "224c7b8c",
   "metadata": {},
   "outputs": [],
   "source": [
    "from selenium.webdriver.common.by import By\n",
    "driver.find_element(By.CSS_SELECTOR,\".MyView-module__link_login___HpHMW\").click()"
   ]
  },
  {
   "cell_type": "code",
   "execution_count": 37,
   "id": "11d97e1c",
   "metadata": {},
   "outputs": [],
   "source": [
    "driver.quit()"
   ]
  },
  {
   "cell_type": "code",
   "execution_count": null,
   "id": "f1d51c61",
   "metadata": {},
   "outputs": [],
   "source": []
  },
  {
   "cell_type": "code",
   "execution_count": 46,
   "id": "f6005874",
   "metadata": {},
   "outputs": [],
   "source": [
    "article_list = []\n",
    "def get_article(page):\n",
    "    driver = webdriver.Chrome(service=ChromeService(ChromeDriverManager().install()))\n",
    "    driver.get(\"http://news.naver.com/main/main.nhn?mode=LSD&mid=shm&sid1=105#&date=%2000:00:00&page=\" + str(page))\n",
    "    articles = driver.find_elements(By.CSS_SELECTOR, \"#section_body li\")\n",
    "    \n",
    "    for article in articles:\n",
    "        title = article.find_element(By.CSS_SELECTOR, 'dt:not(.photo)>a').text\n",
    "        article_list.append(title)\n",
    "    print('end:', page)\n",
    "    \n",
    "    driver.quit()"
   ]
  },
  {
   "cell_type": "code",
   "execution_count": 47,
   "id": "14b95cba",
   "metadata": {},
   "outputs": [
    {
     "name": "stdout",
     "output_type": "stream",
     "text": [
      "end: 1\n",
      "end: 2\n",
      "end: 3\n",
      "end: 4\n",
      "CPU times: total: 6.55 s\n",
      "Wall time: 1min 2s\n"
     ]
    }
   ],
   "source": [
    "%%time\n",
    "for page in range(1,5):\n",
    "    get_article(page)"
   ]
  },
  {
   "cell_type": "code",
   "execution_count": 48,
   "id": "930df4ad",
   "metadata": {},
   "outputs": [
    {
     "data": {
      "text/plain": [
       "(80,\n",
       " ['엔씨, 법조인 출신 CEO 박병무 영입.. 공동대표로 전환 [종합]',\n",
       "  '美 SK하이닉스 찾은 최태원 \"유연하게 대응해달라\"',\n",
       "  '내년 초 태양 활동 극대화…\"열차 사고 가능성\"',\n",
       "  '\"난 공기만 마셔도 배가 불러\"…기분 탓 아니라 \\'사실\\'이었다',\n",
       "  \"韓 토종 팹리스, 'ISSCC'서 약진…제2 미디어텍 꿈꾼다\",\n",
       "  '김재진 이오플로우 대표 “인수 계약 해제, 도약의 시작”…자금조달 가능성 시사',\n",
       "  \"28㎓ 5G 신규사업자 신청 D-8…시장 기류는 '신중'\",\n",
       "  '엔씨소프트, 김택진-박병무 공동대표 체제로…창사 이래 처음(종합)',\n",
       "  '10대 그룹 내부거래 196.4조원…SK, 최대 증가',\n",
       "  '‘LK-99 초전도체 사태’ \"모두 욕심이 앞서…\"',\n",
       "  '\"\\'갤S25 두뇌\\' 스냅드래곤 4세대 칩, M2칩보다 성능 10%↑\"',\n",
       "  '\"애플 \\'비전프로\\' 헤드셋 출시 임박...애플스토어 직원 대상 교육 실시\"',\n",
       "  \"'유튜브에선 이집트인'…온라인 망명 나서는 이유는?\",\n",
       "  '韓, 국제중등과학올림피아드 15년만의 우승',\n",
       "  'AI가 핸드폰 배경 화면 생성...갤럭시 S24 이렇게 나온다',\n",
       "  \"'한국판 버핏과 점심' 2탄, 박현주 회장·최수연 대표 청년과 소통 이어가\",\n",
       "  \"한국, 2023년 국제중등과학올림피아드 '종합 1위' 달성\",\n",
       "  'SK텔레콤, AI 프로그램으로 치매 이환율 낮췄다',\n",
       "  '엔씨소프트, 박병무 공동대표 영입…창사 이래 처음',\n",
       "  '먹기만 해도 아기 피부 갖게 하는 기술 나왔다',\n",
       "  '토스 앱에서 택시 부르고 킥보드 빌린다',\n",
       "  '2억 1500만 년 전 새 같은 발자국 남긴 미스터리 생물 [와우! 과학]',\n",
       "  '60억 딴 오겜 현실판 \\'성기훈\\' 누구?…\"내 상금 쓸 곳은…\"',\n",
       "  \"스마일게이트 'CFS2023', 바이샤 게이밍 2연속 우승\",\n",
       "  \"과기정통부, 'K-제로 트러스트 모델' 발표…보안성 41%↑\",\n",
       "  '\"아이패드 에어 \\'12.9인치\\', 디스플레이 출하 시작..내년 3월 출시 예상\" [글로벌 IT슈]',\n",
       "  '제로트러스트? 63%가 모른다…\"정보 부족\"',\n",
       "  '“포털 ‘다음’ 갑질 행위 멈춰라”…인터넷신문업계, 카카오 항의 방문',\n",
       "  '“김치 먹기도 겁나네” 농약 범벅 대파, 유통기한 지난 재료…이러다 탈난다?',\n",
       "  '도매의무 상설화 임박…사후규제에 ‘알뜰폰 자생’ 숙제로'])"
      ]
     },
     "execution_count": 48,
     "metadata": {},
     "output_type": "execute_result"
    }
   ],
   "source": [
    "len(article_list), article_list[:30]"
   ]
  },
  {
   "cell_type": "code",
   "execution_count": 50,
   "id": "ccc73b05",
   "metadata": {},
   "outputs": [],
   "source": [
    "import threading\n",
    "import pandas as pd\n",
    "\n",
    "df = pd.DataFrame(columns=['title'])"
   ]
  },
  {
   "cell_type": "code",
   "execution_count": 51,
   "id": "7733274d",
   "metadata": {},
   "outputs": [
    {
     "data": {
      "text/html": [
       "<div>\n",
       "<style scoped>\n",
       "    .dataframe tbody tr th:only-of-type {\n",
       "        vertical-align: middle;\n",
       "    }\n",
       "\n",
       "    .dataframe tbody tr th {\n",
       "        vertical-align: top;\n",
       "    }\n",
       "\n",
       "    .dataframe thead th {\n",
       "        text-align: right;\n",
       "    }\n",
       "</style>\n",
       "<table border=\"1\" class=\"dataframe\">\n",
       "  <thead>\n",
       "    <tr style=\"text-align: right;\">\n",
       "      <th></th>\n",
       "      <th>title</th>\n",
       "    </tr>\n",
       "  </thead>\n",
       "  <tbody>\n",
       "  </tbody>\n",
       "</table>\n",
       "</div>"
      ],
      "text/plain": [
       "Empty DataFrame\n",
       "Columns: [title]\n",
       "Index: []"
      ]
     },
     "execution_count": 51,
     "metadata": {},
     "output_type": "execute_result"
    }
   ],
   "source": [
    "df"
   ]
  },
  {
   "cell_type": "code",
   "execution_count": 53,
   "id": "cdcccb3a",
   "metadata": {},
   "outputs": [],
   "source": [
    "def get_article(page):\n",
    "    driver = webdriver.Chrome(service=ChromeService(ChromeDriverManager().install()))\n",
    "    driver.get(\"http://news.naver.com/main/main.nhn?mode=LSD&mid=shm&sid1=105#&date=%2000:00:00&page=\"\n",
    "               + str(page))\n",
    "    articles = driver.find_elements(By.CSS_SELECTOR,'#section_body li')\n",
    "    for article in articles:\n",
    "        title = article.find_element(By.CSS_SELECTOR,'dt:not(.photo) > a').text\n",
    "        df.loc[len(df)] = {\n",
    "            \"title\": title,\n",
    "        }\n",
    "    driver.quit()"
   ]
  },
  {
   "cell_type": "code",
   "execution_count": null,
   "id": "4eb10a66",
   "metadata": {},
   "outputs": [],
   "source": [
    "%%time\n",
    "for page in range(1,5):\n",
    "    get_"
   ]
  }
 ],
 "metadata": {
  "kernelspec": {
   "display_name": "Python 3 (ipykernel)",
   "language": "python",
   "name": "python3"
  },
  "language_info": {
   "codemirror_mode": {
    "name": "ipython",
    "version": 3
   },
   "file_extension": ".py",
   "mimetype": "text/x-python",
   "name": "python",
   "nbconvert_exporter": "python",
   "pygments_lexer": "ipython3",
   "version": "3.11.5"
  }
 },
 "nbformat": 4,
 "nbformat_minor": 5
}
